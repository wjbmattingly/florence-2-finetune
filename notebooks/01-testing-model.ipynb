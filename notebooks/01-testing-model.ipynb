{
 "cells": [
  {
   "cell_type": "code",
   "execution_count": null,
   "metadata": {},
   "outputs": [],
   "source": [
    "import requests\n",
    "from PIL import Image\n",
    "from transformers import AutoProcessor, AutoModelForCausalLM\n",
    "import os\n",
    "from unittest.mock import patch\n",
    "\n",
    "import requests\n",
    "from PIL import Image\n",
    "from transformers import AutoModelForCausalLM, AutoProcessor\n",
    "from transformers.dynamic_module_utils import get_imports\n",
    "import matplotlib.pyplot as plt\n",
    "import matplotlib.patches as patches"
   ]
  },
  {
   "cell_type": "code",
   "execution_count": null,
   "metadata": {},
   "outputs": [],
   "source": [
    "# Mac solution => https://huggingface.co/microsoft/Florence-2-large-ft/discussions/4\n",
    "def fixed_get_imports(filename: str | os.PathLike) -> list[str]:\n",
    "    \"\"\"Work around for https://huggingface.co/microsoft/phi-1_5/discussions/72.\"\"\"\n",
    "    if not str(filename).endswith(\"/modeling_florence2.py\"):\n",
    "        return get_imports(filename)\n",
    "    imports = get_imports(filename)\n",
    "    imports.remove(\"flash_attn\")\n",
    "    return imports\n",
    "\n",
    "\n",
    "with patch(\"transformers.dynamic_module_utils.get_imports\", fixed_get_imports):\n",
    "\n",
    "    model = AutoModelForCausalLM.from_pretrained(\"medieval-data/florence2-medieval-bbox-zone-detection\", trust_remote_code=True)\n",
    "    processor = AutoProcessor.from_pretrained(\"medieval-data/florence2-medieval-bbox-zone-detection\", trust_remote_code=True)\n"
   ]
  },
  {
   "cell_type": "code",
   "execution_count": null,
   "metadata": {},
   "outputs": [],
   "source": [
    "def process_image(url):\n",
    "    prompt = \"<OD>\"\n",
    "\n",
    "    image = Image.open(requests.get(url, stream=True).raw)\n",
    "\n",
    "    inputs = processor(text=prompt, images=image, return_tensors=\"pt\")\n",
    "\n",
    "    generated_ids = model.generate(\n",
    "        input_ids=inputs[\"input_ids\"],\n",
    "        pixel_values=inputs[\"pixel_values\"],\n",
    "        max_new_tokens=1024,\n",
    "        do_sample=False,\n",
    "        num_beams=3\n",
    "    )\n",
    "    generated_text = processor.batch_decode(generated_ids, skip_special_tokens=False)[0]\n",
    "\n",
    "    result = processor.post_process_generation(generated_text, task=\"<OD>\", image_size=(image.width, image.height))\n",
    "    return result, image"
   ]
  },
  {
   "cell_type": "code",
   "execution_count": null,
   "metadata": {},
   "outputs": [],
   "source": [
    "image1 = \"https://huggingface.co/datasets/CATMuS/medieval-segmentation/resolve/main/data/dev/london-british-library-egerton-821/page-002-of-004.jpg\"\n",
    "image2 = \"https://huggingface.co/datasets/CATMuS/medieval-segmentation/resolve/main/data/dev/paris-bnf-lat-12449/page-002-of-003.jpg\"\n",
    "image3 = \"https://huggingface.co/datasets/CATMuS/medieval-segmentation/resolve/main/data/dev/paris-bnf-nal-1909/page-009-of-012.jpg\"\n",
    "image4 = \"https://huggingface.co/datasets/CATMuS/medieval-segmentation/resolve/main/data/test/paris-bnf-fr-574/page-001-of-003.jpg\"\n",
    "image5 = \"https://huggingface.co/datasets/CATMuS/medieval-segmentation/resolve/main/data/train/oxford-bodleian-library-ms-span-d-2-1/page-001-of-001.jpg\"\n",
    "image6 = \"https://huggingface.co/datasets/CATMuS/medieval-segmentation/resolve/main/data/train/munich-bayerische-staatsbibliothek-clm-23343/page-001-of-001.jpeg\"\n",
    "image7 = \"https://huggingface.co/datasets/CATMuS/medieval-segmentation/resolve/main/data/train/leipzig-universitats-bibliothek-leipzig-ms-758/page-008-of-015.jpg\"\n",
    "image8 = \"https://huggingface.co/datasets/CATMuS/medieval-segmentation/resolve/main/data/train/cambridge-corpus-christi-college-ms-111/page-002-of-003.jpg\"\n",
    "\n",
    "image9 = \"https://c8.alamy.com/comp/PPJNB8/latin-manuscript-signatura-vitr-14-5-jurisdiction-sheet-2-vo-quadratic-table-medieval-document-exhibition-the-scientific-legacy-of-al-andalus-location-national-library-PPJNB8.jpg\"\n",
    "image10 = \"https://preview.redd.it/tengwar-table-in-the-medieval-byzantine-ot-armenian-style-v0-5htv9xg28ypa1.jpg?width=640&crop=smart&auto=webp&s=a26faaa57fed97b9c04157043f628a4214928fa1\"\n",
    "\n",
    "image11 = \"https://www.e-codices.unifr.ch/en/download/ubb-A-II-0012_0006v/medium\"\n",
    "image12 = \"https://www.e-codices.unifr.ch/en/download/ubb-A-IX-0014_0002r/medium\"\n",
    "image13 = \"https://www.e-codices.unifr.ch/en/download/ubb-A-IX-0014_0002v/medium\"\n",
    "\n",
    "result, image = process_image(image13)\n",
    "fig, ax = plt.subplots(1, figsize=(15, 15))\n",
    "ax.imshow(image)\n",
    "\n",
    "# Add bounding boxes and labels to the plot\n",
    "for bbox, label in zip(result['<OD>']['bboxes'], result['<OD>']['labels']):\n",
    "    x, y, width, height = bbox[0], bbox[1], bbox[2] - bbox[0], bbox[3] - bbox[1]\n",
    "    rect = patches.Rectangle((x, y), width, height, linewidth=2, edgecolor='r', facecolor='none')\n",
    "    ax.add_patch(rect)\n",
    "    plt.text(x, y, label, fontsize=12, bbox=dict(facecolor='yellow', alpha=0.5))\n",
    "\n",
    "# Display the plot\n",
    "plt.show()"
   ]
  }
 ],
 "metadata": {
  "language_info": {
   "name": "python"
  }
 },
 "nbformat": 4,
 "nbformat_minor": 2
}
